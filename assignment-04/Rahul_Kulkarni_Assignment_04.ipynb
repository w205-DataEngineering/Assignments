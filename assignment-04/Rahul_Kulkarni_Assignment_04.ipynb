{
 "cells": [
  {
   "cell_type": "code",
   "execution_count": 15,
   "metadata": {},
   "outputs": [
    {
     "name": "stdout",
     "output_type": "stream",
     "text": [
      "Waiting on bqjob_r7a86a70ff61efeb6_0000016b4fac9512_1 ... (0s) Current status: DONE   \n",
      "+---------------------+---------------------+\n",
      "|         f0_         |         f1_         |\n",
      "+---------------------+---------------------+\n",
      "| 2013-08-29 12:06:01 | 2016-08-31 23:58:59 |\n",
      "+---------------------+---------------------+\n"
     ]
    }
   ],
   "source": [
    "!bq query --use_legacy_sql=false 'SELECT min(time), max(time) FROM `bigquery-public-data.san_francisco.bikeshare_status`'"
   ]
  },
  {
   "cell_type": "code",
   "execution_count": 17,
   "metadata": {},
   "outputs": [
    {
     "name": "stdout",
     "output_type": "stream",
     "text": [
      "Waiting on bqjob_r6686158c7a0a557e_0000016b4fafbd50_1 ... (0s) Current status: DONE   \n",
      "+-----------------------------------------------+-----------+\n",
      "|              start_station_name               | trip_freq |\n",
      "+-----------------------------------------------+-----------+\n",
      "| San Francisco Caltrain (Townsend at 4th)      |     72683 |\n",
      "| San Francisco Caltrain 2 (330 Townsend)       |     56100 |\n",
      "| Harry Bridges Plaza (Ferry Building)          |     49062 |\n",
      "| Embarcadero at Sansome                        |     41137 |\n",
      "| 2nd at Townsend                               |     39936 |\n",
      "| Temporary Transbay Terminal (Howard at Beale) |     39200 |\n",
      "| Steuart at Market                             |     38531 |\n",
      "| Market at Sansome                             |     35142 |\n",
      "| Townsend at 7th                               |     34894 |\n",
      "| Market at 10th                                |     30209 |\n",
      "+-----------------------------------------------+-----------+\n"
     ]
    }
   ],
   "source": [
    "!bq query --use_legacy_sql=false 'SELECT start_station_name, count(start_station_name) as trip_freq FROM `bigquery-public-data.san_francisco.bikeshare_trips` GROUP BY start_station_name ORDER BY trip_freq DESC LIMIT 10'"
   ]
  },
  {
   "cell_type": "code",
   "execution_count": 18,
   "metadata": {},
   "outputs": [
    {
     "name": "stdout",
     "output_type": "stream",
     "text": [
      "Waiting on bqjob_r58472f72f82f9864_0000016b4fb6b42a_1 ... (3s) Current status: DONE   "
     ]
    }
   ],
   "source": [
    "! bq query --use_legacy_sql=FALSE --format=csv 'SELECT trip_id, start_station_name, end_station_name, count(trip_id) as trip_freq FROM `bigquery-public-data.san_francisco.bikeshare_trips` GROUP BY trip_id, start_station_name, end_station_name ORDER BY trip_freq DESC LIMIT 5' > result.csv\n"
   ]
  },
  {
   "cell_type": "code",
   "execution_count": 23,
   "metadata": {},
   "outputs": [
    {
     "name": "stdout",
     "output_type": "stream",
     "text": [
      "Dataset 'deep-freehold-240002:rk_trips' successfully created.\r\n"
     ]
    }
   ],
   "source": [
    "!bq mk rk_trips"
   ]
  },
  {
   "cell_type": "code",
   "execution_count": 24,
   "metadata": {},
   "outputs": [
    {
     "name": "stdout",
     "output_type": "stream",
     "text": [
      "    datasetId     \r\n",
      " ---------------- \r\n",
      "  bike_trip_data  \r\n",
      "  rk_trips        \r\n"
     ]
    }
   ],
   "source": [
    "!bq ls"
   ]
  },
  {
   "cell_type": "code",
   "execution_count": 29,
   "metadata": {},
   "outputs": [
    {
     "name": "stdout",
     "output_type": "stream",
     "text": [
      "Upload complete.\n",
      "Waiting on bqjob_r33effb241b3798da_0000016b4fc4f814_1 ... (0s) Current status: DONE   \n"
     ]
    }
   ],
   "source": [
    "! bq load rk_trips.trips_table result.csv trip_id:string,start_station_name:string,end_station_name:string,trip_freq:string"
   ]
  },
  {
   "cell_type": "code",
   "execution_count": 34,
   "metadata": {},
   "outputs": [
    {
     "name": "stdout",
     "output_type": "stream",
     "text": [
      "    tableId     Type    Labels   Time Partitioning  \r\n",
      " ------------- ------- -------- ------------------- \r\n",
      "  trips_table   TABLE                               \r\n"
     ]
    }
   ],
   "source": [
    "!bq ls rk_trips"
   ]
  },
  {
   "cell_type": "code",
   "execution_count": 33,
   "metadata": {},
   "outputs": [
    {
     "name": "stdout",
     "output_type": "stream",
     "text": [
      "Table deep-freehold-240002:rk_trips.trips_table\r\n",
      "\r\n",
      "   Last modified               Schema               Total Rows   Total Bytes   Expiration   Time Partitioning   Labels  \r\n",
      " ----------------- ------------------------------- ------------ ------------- ------------ ------------------- -------- \r\n",
      "  13 Jun 07:37:19   |- trip_id: string              6            349                                                    \r\n",
      "                    |- start_station_name: string                                                                       \r\n",
      "                    |- end_station_name: string                                                                         \r\n",
      "                    |- trip_freq: string                                                                                \r\n",
      "\r\n"
     ]
    }
   ],
   "source": [
    "!bq show rk_trips.trips_table"
   ]
  },
  {
   "cell_type": "code",
   "execution_count": 32,
   "metadata": {},
   "outputs": [
    {
     "name": "stdout",
     "output_type": "stream",
     "text": [
      "    tableId     Type    Labels   Time Partitioning  \r\n",
      " ------------- ------- -------- ------------------- \r\n",
      "  trips_table   TABLE                               \r\n"
     ]
    }
   ],
   "source": [
    "!bq ls rk_trips"
   ]
  },
  {
   "cell_type": "markdown",
   "metadata": {},
   "source": []
  },
  {
   "cell_type": "code",
   "execution_count": null,
   "metadata": {},
   "outputs": [],
   "source": [
    "Created a ipynb notebook from the MIDS droplet, ran bq query via the command line interface for big query from \n",
    "the ipynb notebook which demonstrates that we can interface bq commandline from JypeerHub running in the MIDS droplet.\n",
    "We were also able to read a CSV file generated from a query and then create a table using bq load command."
   ]
  }
 ],
 "metadata": {
  "kernelspec": {
   "display_name": "Python 3",
   "language": "python",
   "name": "python3"
  },
  "language_info": {
   "codemirror_mode": {
    "name": "ipython",
    "version": 3
   },
   "file_extension": ".py",
   "mimetype": "text/x-python",
   "name": "python",
   "nbconvert_exporter": "python",
   "pygments_lexer": "ipython3",
   "version": "3.6.7"
  }
 },
 "nbformat": 4,
 "nbformat_minor": 2
}
